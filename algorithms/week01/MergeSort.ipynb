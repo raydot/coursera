{
 "cells": [
  {
   "cell_type": "markdown",
   "metadata": {},
   "source": [
    "# Merge Subroutine\n",
    "\n",
    "__Input:__ sorted arrays _C_ and _D_ (length $n/2$ each)  \n",
    "__Output:__ sorted array B (length _n_)  \n",
    "__Simplifying assumption:__ _n_ is even  \n",
    "***\n",
    "$i:=1$  \n",
    "$j:=1$  \n",
    "for $k:=1$ to _n_ do  \n",
    "    __if__ $C[i] < D[j]$ __then__  \n",
    "        $B[k]:=C[i]$          #populate output array  \n",
    "        $i:=i + 1$            #increment i  \n",
    "    __else__                  #$D[j]<C[i]$  \n",
    "        $B[k]:=D[j]$  \n",
    "        $j:=j+1$\n",
    "        "
   ]
  },
  {
   "cell_type": "code",
   "execution_count": 3,
   "metadata": {},
   "outputs": [
    {
     "ename": "SyntaxError",
     "evalue": "invalid syntax (<ipython-input-3-cd6603865ba8>, line 8)",
     "output_type": "error",
     "traceback": [
      "\u001b[1;36m  File \u001b[1;32m\"<ipython-input-3-cd6603865ba8>\"\u001b[1;36m, line \u001b[1;32m8\u001b[0m\n\u001b[1;33m    for k in range[0 to 9]:\u001b[0m\n\u001b[1;37m                      ^\u001b[0m\n\u001b[1;31mSyntaxError\u001b[0m\u001b[1;31m:\u001b[0m invalid syntax\n"
     ]
    }
   ],
   "source": [
    "merge_subroutine()\n",
    "def merge_subroutine():\n",
    "    B = []\n",
    "    C = [1, 3, 5, 8, 10]\n",
    "    D = [2, 4, 6, 9, 101]\n",
    "    i = 1\n",
    "    j = 1\n",
    "    for k in range[0 to 9]:\n",
    "        if C[i] < D[j]:\n",
    "            B[k] = C[i]          # populate output array\n",
    "            i = i + 1            # increment i\n",
    "        else:\n",
    "            B[k] = D[j]\n",
    "            j = j + 1\n",
    "    \n",
    "    print(B)\n",
    "        "
   ]
  },
  {
   "cell_type": "code",
   "execution_count": null,
   "metadata": {},
   "outputs": [],
   "source": []
  }
 ],
 "metadata": {
  "kernelspec": {
   "display_name": "Python 3",
   "language": "python",
   "name": "python3"
  },
  "language_info": {
   "codemirror_mode": {
    "name": "ipython",
    "version": 3
   },
   "file_extension": ".py",
   "mimetype": "text/x-python",
   "name": "python",
   "nbconvert_exporter": "python",
   "pygments_lexer": "ipython3",
   "version": "3.7.4"
  }
 },
 "nbformat": 4,
 "nbformat_minor": 2
}
