{
 "cells": [
  {
   "cell_type": "markdown",
   "metadata": {},
   "source": [
    "__Input:__ sorted arrays _C_ and _D_ (length _n_/2 each).  \n",
    "__Output:__ sorted array _B_ (length _n_) and the number of split inversions.  \n",
    "__Simplifying assumption:__ _n_ is even.  \n",
    "***\n",
    "$i:=1$, $j:=1$, $splitInv:=0$  \n",
    "__for__ $k:=1$ to $n$ __do__  \n",
    "&nbsp;&nbsp;&nbsp;&nbsp;__if__ $C[i]$ < $D[j]$ __then__  \n",
    "&nbsp;&nbsp;&nbsp;&nbsp;&nbsp;&nbsp;&nbsp;&nbsp;$B[k]:=C[i]$, $i:=i+1$  \n",
    "&nbsp;&nbsp;&nbsp;&nbsp;__else__ $\\hspace{50mm} // D[j] < C[i]$  \n",
    "&nbsp;&nbsp;&nbsp;&nbsp;&nbsp;&nbsp;&nbsp;&nbsp;$B[k]:=D[j]$, $j:=j+1$  \n",
    "&nbsp;&nbsp;&nbsp;&nbsp;&nbsp;&nbsp;&nbsp;&nbsp;$splitInv:=splitInv+\\underbrace{( \\frac{n}{2}-i+1)}_\\text{# left in c}$  \n",
    "\n",
    "return $(B, splitInv)$"
   ]
  },
  {
   "cell_type": "code",
   "execution_count": null,
   "metadata": {},
   "outputs": [],
   "source": []
  }
 ],
 "metadata": {
  "kernelspec": {
   "display_name": "Python 3",
   "language": "python",
   "name": "python3"
  },
  "language_info": {
   "codemirror_mode": {
    "name": "ipython",
    "version": 3
   },
   "file_extension": ".py",
   "mimetype": "text/x-python",
   "name": "python",
   "nbconvert_exporter": "python",
   "pygments_lexer": "ipython3",
   "version": "3.7.3"
  }
 },
 "nbformat": 4,
 "nbformat_minor": 2
}
