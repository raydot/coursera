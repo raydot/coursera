{
cells: [
{
cell_type: "markdown",
metadata: { },
source: [
"# Binary Search Algorithm
",
"
",
"The purpose of this notebook is to explain the binary search algorithm in 
",
"detail, showing how to prove correctness, termination and deriving the running time. These are meant to be a companion to the lecture that explains the main idea behind the algorithm.
",
"
",
"
",
"Given a _sorted_ list (assume ascending order sorted) of $n$ elements, we wish to find out if a given element `elt` belongs to the list. 
",
"
",
"Binary search algorithm repeatedly narrows down the possible location of the element by comparing the middle element in the search range to the one we are searching for. We are hoping to find at each step using the fact that the array is sorted.
",
"
",
"**TODO** Look at the lecture on binary search before you proceed further.
",
"
",
"
",
"We wish to  implement a function `binarySearchHelper(lst, elt, left, right)` wherein:
",
"  - `lst` is a non empty list with at least 2 or more elements.
",
"  - `elt` is the element whose index we are searching for.
",
"  - `left` and `right` represent the "bounds" in terms of indices of the list.
",
"    - Note that indices in python start at 0 and go until `len(lst)`. 
",
"    - Let us use `n` to denote the length of the list.
",
"    - We will always ensure that 0 <= `left` <= `right` <= n-1. 
",
"    
",
"The expected output is a number `index` or the python value `None`.
",
"  - If a number `index` is returned, it is a valid index of the list between left and right AND `lst[index] == elt` must hold.
",
"  - Otherwise, `None` is returned if and only if the list `lst` does not contain `elt`.
",
"  
",
"Here is the implementation of `binarySearchHelper`."
]
},
{
cell_type: "code",
execution_count: 49,
metadata: { },
outputs: [ ],
source: [
"def binarySearchHelper(lst, elt, left, right):
",
"    n = len(lst)
",
"    if (left > right):
",
"        return None # Search region is empty -- let us bail.
",
"    else: 
",
"        # If elt exists in the list, it must be between left and right indices.
",
"        mid = (left + right)//2 # Note that // is integer division 
",
"        if lst[mid] == elt: 
",
"            return mid # BINGO -- we found it. Return its index and that we found it
",
"        elif lst[mid] < elt: 
",
"            return binarySearchHelper(lst, elt, mid+1, right)
",
"        else: # lst[mid] > elt
",
"            return binarySearchHelper(lst, elt, left, mid-1)"
]
},
{
cell_type: "code",
execution_count: 50,
metadata: { },
outputs: [ ],
source: [
"def binarySearch(lst, elt):
",
"    n = len(lst)
",
"    if (elt < lst[0] or elt > lst[n-1]):
",
"        return None
",
"    else: # Note: we will only get here if
",
"          # lst[0] <= elt <= lst[n-1]
",
"        return binarySearchHelper(lst, elt, 0, n-1)"
]
},
{
cell_type: "code",
execution_count: 51,
metadata: { },
outputs: [
{
name: "stdout",
output_type: "stream",
text: [
"Searching for 9 in list [0,2,3,4,6,9,12]
",
"5
",
"Searching for 8 in list [1, 3, 4, 6, 8, 9,10, 11, 12, 15]
",
"4
",
"Searching for 5 in list [1, 3, 4, 6, 8, 9,10, 11, 12, 15]
",
"None
",
"Searching for 0 in list [0,2]
",
"0
",
"Searching for 1 in list [0,2]
",
"None
",
"Searching for 2 in list [0,2]
",
"1
",
"Searching for 1 in list [1]
",
"0
",
"Searching for 2 in list [1]
",
"None
"
]
}
],
source: [
"print("Searching for 9 in list [0,2,3,4,6,9,12]")
",
"print(binarySearch([0,2,3,4,6,9,12], 9))
",
"
",
"print("Searching for 8 in list [1, 3, 4, 6, 8, 9,10, 11, 12, 15]")
",
"print(binarySearch([1, 3, 4, 6, 8, 9,10, 11, 12, 15], 8))
",
"
",
"print("Searching for 5 in list [1, 3, 4, 6, 8, 9,10, 11, 12, 15]")
",
"print(binarySearch([1, 3, 4, 6, 8, 9,10, 11, 12, 15], 5))
",
"
",
"print("Searching for 0 in list [0,2]")
",
"print(binarySearch([0,2], 0))
",
"
",
"print("Searching for 1 in list [0,2]")
",
"print(binarySearch([0,2], 1))
",
"
",
"print("Searching for 2 in list [0,2]")
",
"print(binarySearch([0,2], 2))
",
"
",
"print("Searching for 1 in list [1]")
",
"print(binarySearch([1], 1))
",
"
",
"print("Searching for 2 in list [1]")
",
"print(binarySearch([1], 2))
",
"
"
]
},
{
cell_type: "markdown",
metadata: { },
source: [
"## Implementing Using Loops"
]
},
{
cell_type: "code",
execution_count: 52,
metadata: { },
outputs: [ ],
source: [
"def binSearch(lst, elt):
",
"    n = len(lst)
",
"    if (elt < lst[0] or elt > lst[n-1]):
",
"        return None
",
"    else:
",
"        left = 0
",
"        right = n - 1
",
"        while (left <= right):
",
"            # Exact same logic as the recursion.
",
"            mid = (left + right)//2 # Note that in python3 and above // is integer division 
",
"            if lst[mid] == elt: 
",
"                return mid # BINGO -- we found it. Return its index and that we found it
",
"            elif lst[mid] < elt:  
",
"                left = mid + 1
",
"            else: # lst[mid] > elt
",
"                right = mid - 1 
",
"        return None"
]
},
{
cell_type: "code",
execution_count: 54,
metadata: { },
outputs: [
{
name: "stdout",
output_type: "stream",
text: [
"Searching for 9 in list [0,2,3,4,6,9,12]
",
"5
",
"Searching for 8 in list [1, 3, 4, 6, 8, 9,10, 11, 12, 15]
",
"4
",
"Searching for 5 in list [1, 3, 4, 6, 8, 9,10, 11, 12, 15]
",
"None
",
"Searching for 0 in list [0,2]
",
"0
",
"Searching for 1 in list [0,2]
",
"None
",
"Searching for 2 in list [0,2]
",
"1
"
]
}
],
source: [
"print("Searching for 9 in list [0,2,3,4,6,9,12]")
",
"print(binSearch([0,2,3,4,6,9,12], 9))
",
"
",
"print("Searching for 8 in list [1, 3, 4, 6, 8, 9,10, 11, 12, 15]")
",
"print(binSearch([1, 3, 4, 6, 8, 9,10, 11, 12, 15], 8))
",
"
",
"print("Searching for 5 in list [1, 3, 4, 6, 8, 9,10, 11, 12, 15]")
",
"print(binSearch([1, 3, 4, 6, 8, 9,10, 11, 12, 15], 5))
",
"
",
"print("Searching for 0 in list [0,2]")
",
"print(binSearch([0,2], 0))
",
"
",
"print("Searching for 1 in list [0,2]")
",
"print(binSearch([0,2], 1))
",
"
",
"print("Searching for 2 in list [0,2]")
",
"print(binSearch([0,2], 2))"
]
},
{
cell_type: "markdown",
metadata: { },
source: [
"## Why does binary search work?
",
"
",
"We will provide proof that:
",
"  - If `elt` belongs to `lst` at index  `j`, then binary search will return `j`
",
"  - If `elt` does not belong to the `lst`, then binary search will either return `None`.
",
"
",
"We will also provide proof that the search terminates.
",
"
",
"For convenience, we will reason about the recursive version.
",
"
",
"#### Claim 1: For any call to the function `binarySearchHelper(lst, elt, left, right)`  if `elt` belongs to the list at index `j`, then `left <= j <= right`.
",
" 
",
"**Proof:** The proof is by induction on calls to `binarySearchHelper` function.
",
"
",
"**Base Case:** The very first call to `binarySearchHelper` made from the function `binarySearch` satisfies these properties. Since at the very beginning, we have `left = 0` andd `right = n-1`. The statement is trivially true: if `elt` belongs to the list, then its index must be between `0` and `n-1`.
",
"
",
"**Induction:** If a given call to `binarySearchHelper` satisfies these facts then the subsequent call must also satisfy these properties.
",
"
",
"To prove this let us take a careful look at the body of the function in question.
",
"```python
",
"mid = (left + right)//2 # Note that // is integer division 
",
"if lst[mid] == elt: 
",
"    return mid 
",
"elif lst[mid] < elt:  
",
"    return binarySearchHelper(lst, elt, mid+1, right) ## CALL 1
",
"else: # lst[mid] > elt
",
"    return binarySearchHelper(lst, elt, left, mid-1) ## CALL 2
",
"```
",
"
",
"Note that there are two calls back to `binarySearchHelper` labeled `CALL 1` andd `CALL 2` in the body.
",
"  - For CALL 1, note that it can happen only if `lst[mid] < elt`. Since `lst` is sorted, if `elt` were to be found in the list, it can only be found in the range of indices `[mid+1, right]`. Therefore, the property continues to hold for CALL 1.
",
"  - For CALL 2, note that it can happen only if `lst[mid] > elt`. Therefore, if the `elt` were to be found in the list, it can only be found in the range of indices `[left, mid-1]`. Therefore, the property continues to hold for CALL 2."
]
},
{
cell_type: "markdown",
metadata: { },
source: [
"**Definition** the "size" of the search region for binary search as given by `(right - left + 1)`.
",
"
",
"**Claim 2:** For any call to the function `binarySearchHelper(lst, elt, left, right)`, either we (a) terminate by finding `elt`, (b) conclude that `elt` does not exit in the `lst` or (c) make a call back to `binarySearchHelper` with a strictly smaller search region.
",
"
",
"**Proof** The proof of this claim is straight forward from the code.
",
"```python
",
"mid = (left + right)//2 # Note that // is integer division 
",
"if lst[mid] == elt: 
",
"    return mid 
",
"elif lst[mid] < elt:  
",
"    return binarySearchHelper(lst, elt, mid+1, right) ## CALL 1
",
"else: # lst[mid] > elt
",
"    return binarySearchHelper(lst, elt, left, mid-1) ## CALL 2
",
"```
",
"
",
"
",
"Note that for CALL 1, the new search region size is 
",
"`right - (mid+1) +1` which is the same as `right - mid`. Note,
",
"`mid >= left` or in other words, `mid > left - 1`.
",
"Therefore, the new search region size is `right - mid < right - (left -1) = right -left + 1`. Thus, the new call's search region is strictly smaller than the original call's search region.
",
"
",
"
",
"Note that for CALL 2, the new search region size is `mid - left`. Once again since `mid <= right`, we note that `mid < right + 1`. Therefore, `mid - left < right + 1 - left`. Thus, the new call's search region is strictly smaller than the original call's search region.
"
]
},
{
cell_type: "markdown",
metadata: { },
source: [
"### Overall Correctness Argument
",
"
",
"- Whenever a call to `binarySearchHelper(lst, elt, left, right)` is made, we conclude that if `elt` were to be found in `lst` then it would belong to the range `[left, right]`. This is **claim 1**.
",
"- Thus, if `left > right`, the range of indices is empty, and we can conclude that the `elt` cannot belong to the list.
",
"- Next, the search region for any successive call is strictly smaller than the previous search region.
",
"- Therefore, eventually, we have to terminate either by finding the `elt` or reaching the condition `left > right`. "
]
},
{
cell_type: "markdown",
metadata: { },
source: [
"### Termination
",
"
",
"Claim 2 directly proves termination."
]
},
{
cell_type: "markdown",
metadata: { },
source: [
"### Worst Case Execution Time
",
"
",
"**Claim 3:** Let us consider a call to `binarySearchHelper(lst, elt, l, r)` and a subsequent call `binarySearchHelper(lst, elt, l1, r1)`. The new search region `r1 - l1 + 1` is at most half the size of the previous search region `r - l + 1`. Formally, 
",
" $$ r1 - l1 + 1 \leq \frac{(r - l + 1)}{2} $$
",
"
",
"
",
"**Proof ** 
",
"
",
"Consider the code for `binarySearchHelper(lst, elt, l, r)` (Note that we write `l`, `r` instead of `left` and `right`. Similarly, we write `m` instead of `mid`).
",
"```python
",
"m = (left + right)//2 # Note that // is integer division 
",
"if lst[m] == elt: 
",
"    return mid 
",
"elif lst[m] < elt:  
",
"    return binarySearchHelper(lst, elt, m+1, r) ## CALL 1
",
"else: # lst[mid] > elt
",
"    return binarySearchHelper(lst, elt, l, m-1) ## CALL 2
",
"```
",
"
",
"Any subsequent call is either CALL 1 or CALL 2.
",
"
",
"  - For CALL 1, the new search region size is 
",
"  $$ r- (m+1) +1 = r - m = r - \left\lfloor \frac{(l + r)}{2} \right\rfloor \leq r - \frac{(l+r-1)}{2} \leq \frac{(r - l + 1)}{2} $$ 
",
"  - For CALL 2, the new search region size is 
",
"  $$ (m -1) - l + 1 = m - l = \left\lfloor \frac{(l + r)}{2} \right\rfloor - l \leq \frac{(l+r)}{2} - l  \leq \frac{(r - l)}{2} \leq \frac{(r-l + 1)}{2} $$.
",
"  
",
"In both cases, we derive the relation that new search region is less than or equal to half the size of the old search region."
]
},
{
cell_type: "markdown",
metadata: { },
source: [
"**Complexity Analysis**
",
"
",
"Thus, the initial search region size is $n$, the size of the list. At each subsequent call, the search region shrinks by half of  the previous search region.
",
"
",
"Therefore, if we made $k$ iterations of `binarySearchHelper`, the search region would be at most $ \frac{n}{2^k}$. 
",
"
",
"When the search region size is less than $1$, we have to stop since we would reach the condition `left < right`.
",
"
",
"In the worst case therefore, binary search can run for `k` steps as long as $ \frac{n}{2^k} \geq 1 $.
",
"
",
"On other words, $2^k \leq n$, i.e,  $k \leq \log_2(n)$.
",
"
",
"Each recursive call involves constant number of operations. Thus, we concluded that  the running time is bounded from above by $O(\log(n))$.
",
"
",
"A similar analysis shows that for every $n$, we can produce a list of size $n$ and a missing element such that the algorithm must take time proportional to $\log_2(n)$ to run. This lets us conclude that the running time must be $\Omega(\log(n))$ in the worst case.
",
"
",
"Combining, we get that the running time is $\Theta(\log(n))$."
]
}
],
metadata: {
kernelspec: {
display_name: "Python 3",
language: "python",
name: "python3"
},
language_info: {
codemirror_mode: {
name: "ipython",
version: 3
},
file_extension: ".py",
mimetype: "text/x-python",
name: "python",
nbconvert_exporter: "python",
pygments_lexer: "ipython3",
version: "3.9.1"
}
},
nbformat: 4,
nbformat_minor: 4
}