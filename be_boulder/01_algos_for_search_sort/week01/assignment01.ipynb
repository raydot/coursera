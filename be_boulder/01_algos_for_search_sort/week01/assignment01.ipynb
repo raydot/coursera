{
 "cells": [
  {
   "cell_type": "markdown",
   "metadata": {},
   "source": [
    "## Problem 1: Find Crossover Indices.\n",
    "\n",
    "You are given data that consists of points\n",
    "$(x_0, y_0), \\ldots, (x_n, y_n)$, wherein $x_0 < x_1 < \\ldots < x_n $, and  $y_0 < y_1 \\ldots < y_n$ as well.\n",
    "\n",
    "Furthermore, it is given that $y_0 < x_0$ and $ y_n > x_n$.\n",
    "\n",
    "Find a \"cross-over\" index $i$ between $0$ and $n-1$ such that  $ y_i \\leq x_i$ and $y_{i+1} > x_{i+1}$.\n",
    "\n",
    "Note that such an index must always exist (convince yourself of this fact before we proceed).\n",
    "\n",
    "\n",
    "__Example__\n",
    "\n",
    "$$\\begin{array}{c| c c c c c c c c c }\n",
    "i & 0 & 1 & 2 & 3 & 4 & 5 & 6 & 7 \\\\\n",
    "\\hline\n",
    "x_i & 0 & 2 & 4 & \\color{red}{5} & \\color{red}{6} & 7 & 8 & 10 \\\\\n",
    "y_i & -2 & 0 & 2 & \\color{red}{4} & \\color{red}{7} & 8 & 10 & 12 \\\\\n",
    "\\end{array} $$\n",
    "\n",
    "\n",
    "Your algorithm must find the index $i=3$ as the crossover point.\n",
    "\n",
    "On the other hand, consider the data\n",
    "\n",
    "$$\\begin{array}{c| c c c c c c c c c }\n",
    "i & 0 & 1 & 2 & 3 & 4 & 5 & 6 & 7 \\\\\n",
    "\\hline\n",
    "x_i & \\color{red}{0} & \\color{red}{1} & 4 & \\color{red}{5} & \\color{red}{6} & 7 & 8 & 10 \\\\\n",
    "y_i & \\color{red}{-2} & \\color{red}{1.5} & 2 & \\color{red}{4} & \\color{red}{7} & 8 & 10 & 12 \\\\\n",
    "\\end{array} $$\n",
    "\n",
    "We have two cross over points. Your algorithm may output either $i=0$ or $i=3$.\n"
   ]
  },
  {
   "cell_type": "markdown",
   "metadata": {},
   "source": [
    "__(A)__ Design an algorithm to find an index $i \\in \\{ 0, 1, \\ldots, n-1\\}$ such that $x_i \\geq y_i$ but $x_{i+1} < y_{i+1}$. \n",
    "\n",
    "Describe your algorithm using python code for a function _findCrossoverIndexHelper(x, y, left, right)_\n",
    "  - `x` is a list of x values sorted in increasing order.\n",
    "  - `y` is a list of y values sorted in increasing order.\n",
    "  - `x` and `y` are lists of same size (`n`).\n",
    "  - `left` and `right` are indices that represent the current search region in the list such that 0 <= `left` < `right` <= `n`\n",
    "  \n",
    "Your solution must use _recursion_. \n",
    "\n",
    "**Hint:** Modify the binary search algorithm we presented in class."
   ]
  },
  {
   "cell_type": "markdown",
   "metadata": {},
   "source": [
    "## Notes\n",
    "\n",
    "I think the idea of using recursion here is not to traverse the list from start to finish but to continually narrow down the list until the crossover point is found.  \n",
    "\n",
    "Lists are **sorted**."
   ]
  },
  {
   "cell_type": "markdown",
   "metadata": {},
   "source": [
    "---\n",
    "\n",
    "## Code"
   ]
  },
  {
   "cell_type": "code",
   "execution_count": 20,
   "metadata": {},
   "outputs": [],
   "source": [
    "#First write a \"helper\" function with two extra parameters\n",
    "# left, right that describes the search region as shown below\n",
    "def findCrossoverIndexHelper(x, y, left, right):\n",
    "    # Note: Output index i such that \n",
    "    #         left <= i <= right\n",
    "    #         x[i] <= y[i]\n",
    "    # First, Write down our invariants as assertions here\n",
    "    assert(len(x) == len(y))\n",
    "    assert(left >= 0)\n",
    "    assert(left <= right-1)\n",
    "    assert(right < len(x))\n",
    "    # Here is the key property we would like to maintain.\n",
    "    assert(x[left] > y[left])\n",
    "    assert(x[right] < y[right])\n",
    "    \n",
    "    # your code here\n",
    "    n = len(x)\n",
    "    if (left > right):\n",
    "        return None #something broke\n",
    "    else:\n",
    "        # start looking for the crossover in the middle\n",
    "        mid = (left + right) // 2\n",
    "        if (x[left] > y[left] and x[right] < y[right]):\n",
    "            return mid #found it!\n",
    "        elif (x[left] > y[left] and x[right] > y[right]):\n",
    "            return findCrossoverIndexHelper(x, y, mid+1, right)\n",
    "        else:\n",
    "            return findCrossoverIndexHelper(x, y, left, mid-1)"
   ]
  },
  {
   "cell_type": "code",
   "execution_count": 21,
   "metadata": {},
   "outputs": [],
   "source": [
    "#Define the function findCrossoverIndex that wil \n",
    "# call the helper function findCrossoverIndexHelper\n",
    "def findCrossoverIndex(x, y):\n",
    "    assert(len(x) == len(y))\n",
    "    assert(x[0] > y[0])\n",
    "    n = len(x)\n",
    "    assert(x[n-1] < y[n-1]) # Note: this automatically ensures n >= 2 why?\n",
    "    # your code here\n",
    "    return findCrossoverIndexHelper(x, y, 0, n-1)"
   ]
  },
  {
   "cell_type": "code",
   "execution_count": 25,
   "metadata": {},
   "outputs": [
    {
     "name": "stdout",
     "output_type": "stream",
     "text": [
      "j1 = 3\n",
      "j2 = 3\n"
     ]
    },
    {
     "ename": "AssertionError",
     "evalue": "Test Case # 2 Failed",
     "output_type": "error",
     "traceback": [
      "\u001b[0;31m---------------------------------------------------------------------------\u001b[0m",
      "\u001b[0;31mAssertionError\u001b[0m                            Traceback (most recent call last)",
      "Cell \u001b[0;32mIn [25], line 8\u001b[0m\n\u001b[1;32m      6\u001b[0m j2 \u001b[39m=\u001b[39m findCrossoverIndex([\u001b[39m0\u001b[39m, \u001b[39m1\u001b[39m, \u001b[39m2\u001b[39m, \u001b[39m3\u001b[39m, \u001b[39m4\u001b[39m, \u001b[39m5\u001b[39m, \u001b[39m6\u001b[39m, \u001b[39m7\u001b[39m], [\u001b[39m-\u001b[39m\u001b[39m2\u001b[39m, \u001b[39m0\u001b[39m, \u001b[39m4\u001b[39m, \u001b[39m4.2\u001b[39m, \u001b[39m4.3\u001b[39m, \u001b[39m4.5\u001b[39m, \u001b[39m8\u001b[39m, \u001b[39m9\u001b[39m])\n\u001b[1;32m      7\u001b[0m \u001b[39mprint\u001b[39m(\u001b[39m'\u001b[39m\u001b[39mj2 = \u001b[39m\u001b[39m%d\u001b[39;00m\u001b[39m'\u001b[39m \u001b[39m%\u001b[39m j2)\n\u001b[0;32m----> 8\u001b[0m \u001b[39massert\u001b[39;00m j2 \u001b[39m==\u001b[39m \u001b[39m1\u001b[39m \u001b[39mor\u001b[39;00m j2 \u001b[39m==\u001b[39m \u001b[39m5\u001b[39m, \u001b[39m\"\u001b[39m\u001b[39mTest Case # 2 Failed\u001b[39m\u001b[39m\"\u001b[39m\n\u001b[1;32m     10\u001b[0m j3 \u001b[39m=\u001b[39m findCrossoverIndex([\u001b[39m0\u001b[39m, \u001b[39m1\u001b[39m], [\u001b[39m-\u001b[39m\u001b[39m10\u001b[39m, \u001b[39m10\u001b[39m])\n\u001b[1;32m     11\u001b[0m \u001b[39mprint\u001b[39m(\u001b[39m'\u001b[39m\u001b[39mj3 = \u001b[39m\u001b[39m%d\u001b[39;00m\u001b[39m'\u001b[39m \u001b[39m%\u001b[39m j3)\n",
      "\u001b[0;31mAssertionError\u001b[0m: Test Case # 2 Failed"
     ]
    }
   ],
   "source": [
    "# BEGIN TEST CASES\n",
    "j1 = findCrossoverIndex([0, 1, 2, 3, 4, 5, 6, 7], [-2, 0, 4, 5, 6, 7, 8, 9])\n",
    "print('j1 = %d' % j1)\n",
    "assert j1 == 1, \"Test Case # 1 Failed\"\n",
    "\n",
    "j2 = findCrossoverIndex([0, 1, 2, 3, 4, 5, 6, 7], [-2, 0, 4, 4.2, 4.3, 4.5, 8, 9])\n",
    "print('j2 = %d' % j2)\n",
    "assert j2 == 1 or j2 == 5, \"Test Case # 2 Failed\"\n",
    "\n",
    "j3 = findCrossoverIndex([0, 1], [-10, 10])\n",
    "print('j3 = %d' % j3)\n",
    "assert j3 == 0, \"Test Case # 3 failed\"\n",
    "\n",
    "j4 = findCrossoverIndex([0,1, 2, 3], [-10, -9, -8, 5])\n",
    "print('j4 = %d' % j4)\n",
    "assert j4 == 2, \"Test Case # 4 failed\"\n",
    "\n",
    "print('Congratulations: all test cases passed - 10 points')\n",
    "# #END TEST CASES"
   ]
  }
 ],
 "metadata": {
  "kernelspec": {
   "display_name": "Python 3.10.7 64-bit",
   "language": "python",
   "name": "python3"
  },
  "language_info": {
   "codemirror_mode": {
    "name": "ipython",
    "version": 3
   },
   "file_extension": ".py",
   "mimetype": "text/x-python",
   "name": "python",
   "nbconvert_exporter": "python",
   "pygments_lexer": "ipython3",
   "version": "3.10.8 (main, Oct 13 2022, 10:17:43) [Clang 14.0.0 (clang-1400.0.29.102)]"
  },
  "orig_nbformat": 4,
  "vscode": {
   "interpreter": {
    "hash": "aee8b7b246df8f9039afb4144a1f6fd8d2ca17a180786b69acc140d282b71a49"
   }
  }
 },
 "nbformat": 4,
 "nbformat_minor": 2
}
