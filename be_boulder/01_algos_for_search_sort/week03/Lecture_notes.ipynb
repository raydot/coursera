{
 "cells": [
  {
   "cell_type": "markdown",
   "metadata": {},
   "source": [
    "# Introduction to Randomization + Average Case Analysis + Recurrences"
   ]
  },
  {
   "cell_type": "markdown",
   "metadata": {},
   "source": [
    "## Average Complexity Analysis"
   ]
  },
  {
   "cell_type": "markdown",
   "metadata": {},
   "source": [
    "_T(p)_ = 1 * (1 - _p_) + (1 + _t(p)_) * _p_\n",
    "\n",
    "T(p) = unknown average running time\n",
    "\n",
    "Factoring we get T(p) = $1/1-p$ = 1.333...\n",
    "\n",
    "This is a trick called a \"recurrence relation\""
   ]
  },
  {
   "cell_type": "code",
   "execution_count": null,
   "metadata": {},
   "outputs": [],
   "source": [
    "def geometric(p):\n",
    "  # p is a number between 0 and 1\n",
    "  # flip(p) is a function that\n",
    "  # returns True with probability p\n",
    "  # returns False with probability 1-p\n",
    "  count = 0\n",
    "  if flip(p):\n",
    "    return 1 + geometric(p)\n",
    "  else:\n",
    "    return 1 "
   ]
  }
 ],
 "metadata": {
  "kernelspec": {
   "display_name": "Python 3",
   "language": "python",
   "name": "python3"
  },
  "language_info": {
   "name": "python",
   "version": "3.11.6"
  }
 },
 "nbformat": 4,
 "nbformat_minor": 2
}
