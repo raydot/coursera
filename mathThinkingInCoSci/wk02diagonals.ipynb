{
 "cells": [
  {
   "cell_type": "markdown",
   "metadata": {},
   "source": [
    "# Diagonals"
   ]
  },
  {
   "cell_type": "code",
   "execution_count": 1,
   "metadata": {},
   "outputs": [
    {
     "name": "stdout",
     "output_type": "stream",
     "text": [
      "[1, 1, 1, 0, 2, 0, 0, 1, 0, 2, 2, 2, 0, 2, 2, 2, 0, 1, 0, 0, 2, 0, 1, 1, 1]\n"
     ]
    }
   ],
   "source": [
    "# Let's consider:\n",
    "# 1 = /\n",
    "# 2 = \\\n",
    "# 0 = Empty\n",
    "\n",
    "def can_be_extended(perm):\n",
    "    i = len(perm) - 1 # Last cell index of the partial perm\n",
    "    j = perm[i] # Value of the last cell of the partial perm\n",
    "    j_op = 2 if j == 1 else 1 # Opposite value of the last cell of the partial perm\n",
    "    if i == 25:\n",
    "        return False # If the last cell is the 25th then we can't continue\n",
    "    if j == 0: # If j = 0 then we know that we can continue\n",
    "        return True\n",
    "    # Here we check the constraints of the diagonals\n",
    "    # I'm only using a one dimensional array so I use subtraction and remainder\n",
    "    # (and a few restrictions to avoid weird indexes) to get the neighbors cells\n",
    "    if (i >= 5 and perm[i - 5] == j_op) or (i >= 1 and perm[i - 1] == j_op):\n",
    "        return False\n",
    "    if j == 1 and i >= 4 and i % 5 != 4 and perm[i - 4] == 1:\n",
    "        return False\n",
    "    if j == 2 and i >= 6 and i % 5 != 0 and perm[i - 6] == 2:\n",
    "        return False\n",
    "    # If everything is ok then we can continue :)\n",
    "    return True\n",
    "\n",
    "\n",
    "def extend(per, diag, n):\n",
    "    if diag == n: # Here i check if i already found the n solutions\n",
    "        print(per)\n",
    "        exit()\n",
    "    # This is optimization, if i can't complete the 16 diagonals with the remaining cells,\n",
    "    # then there is no point in continuing\n",
    "    if 25 - len(per) + diag < n:\n",
    "        return\n",
    "    #  I suppose that this can be constant in the outer scope, but idk, here it is\n",
    "    options = [2, 1, 0]\n",
    "    for j in options:\n",
    "        per.append(j)\n",
    "        if j > 0:\n",
    "            diag += 1 # Add 1 if append a diagonal (1 or 2)\n",
    "        if can_be_extended(per):\n",
    "            extend(per, diag, n)\n",
    "        per.pop()\n",
    "        if j > 0:\n",
    "            diag -= 1\n",
    "    return\n",
    "\n",
    "\n",
    "if __name__ == '__main__':\n",
    "    extend([], 0, 16)\n"
   ]
  }
 ],
 "metadata": {
  "interpreter": {
   "hash": "9b9978de93a28ce0cd43f1c4ec30d9ca725ad10ffef4cc66a8ec18ed393b239e"
  },
  "kernelspec": {
   "display_name": "Python 3.9.2 64-bit ('3.9.2')",
   "language": "python",
   "name": "python3"
  },
  "language_info": {
   "codemirror_mode": {
    "name": "ipython",
    "version": 3
   },
   "file_extension": ".py",
   "mimetype": "text/x-python",
   "name": "python",
   "nbconvert_exporter": "python",
   "pygments_lexer": "ipython3",
   "version": "3.9.2"
  },
  "orig_nbformat": 4
 },
 "nbformat": 4,
 "nbformat_minor": 2
}
