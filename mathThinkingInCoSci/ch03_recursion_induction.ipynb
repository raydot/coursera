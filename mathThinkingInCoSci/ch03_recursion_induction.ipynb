{
 "cells": [
  {
   "cell_type": "markdown",
   "metadata": {},
   "source": [
    "# Recursion and Induction\n",
    "\n",
    "## Chapter 3 of the course textbook"
   ]
  },
  {
   "cell_type": "markdown",
   "metadata": {},
   "source": [
    "Recursion is often used for computing something whereas induction is used for proving things.\n",
    "\n",
    "A program is called _recursive_ if it calls itself, thus reducing an instance of a problem to some other instance of the same problem.  "
   ]
  },
  {
   "cell_type": "code",
   "execution_count": null,
   "metadata": {},
   "outputs": [
    {
     "name": "stdout",
     "output_type": "stream",
     "text": [
      "5\n"
     ]
    }
   ],
   "source": [
    "# Simple example\n",
    "# You could of course just use len() to do this\n",
    "\n",
    "def length(lst):\n",
    "  # check whether lst is empty\n",
    "  # can also say lst = []\n",
    "  # this is the \"first person in line\"\n",
    "  if not lst:\n",
    "    return 0\n",
    "  else:\n",
    "    # print(lst[1:])\n",
    "    # lst[1:] returns the list minus the 1st element (slice)\n",
    "    return 1 + length(lst[1:])\n",
    "\n",
    "print(length([5, 4, 2, 1, 6]))\n"
   ]
  },
  {
   "cell_type": "code",
   "execution_count": null,
   "metadata": {},
   "outputs": [
    {
     "name": "stdout",
     "output_type": "stream",
     "text": [
      "5\n"
     ]
    }
   ],
   "source": [
    "# Same as above in a one-liner\n",
    "def length(lst):\n",
    "  return 1 + length(lst[1:]) if lst else 0\n",
    "\n",
    "print(length(['Ashok', 'Benito', 'Claire', 'David', 'Eustance' ]))"
   ]
  },
  {
   "cell_type": "markdown",
   "metadata": {},
   "source": [
    "Factorial: Iteration Versus Recursion"
   ]
  },
  {
   "cell_type": "markdown",
   "metadata": {},
   "source": [
    "What is the last nonzero digit of 20! and how many zeros follow it?  "
   ]
  },
  {
   "cell_type": "code",
   "execution_count": null,
   "metadata": {},
   "outputs": [
    {
     "name": "stdout",
     "output_type": "stream",
     "text": [
      "2432902008176640000\n"
     ]
    }
   ],
   "source": [
    "# It is easy to write a program that computes factorials\n",
    "# This is iterative:\n",
    "def factorial(n):\n",
    "  assert n > 0 # or else you'll get an error\n",
    "  result = 1\n",
    "  for i in range(1, n + 1):\n",
    "    result *= i\n",
    "  return result\n",
    "\n",
    "print(factorial(20))"
   ]
  },
  {
   "cell_type": "markdown",
   "metadata": {},
   "source": [
    "There are three ways you can call range() : \n",
    "* `range(stop)` takes one argument.\n",
    "* `range(start, stop)` takes two arguments.\n",
    "* `range(start, stop, step)` takes three arguments.\n",
    "\n",
    "```python\n",
    "for i in range(10):\n",
    "    print(i, end=\" \")\n",
    "print()\n",
    "```\n",
    "...will print 0 1 2 3 4 5 6 7 8 9"
   ]
  },
  {
   "cell_type": "code",
   "execution_count": null,
   "metadata": {},
   "outputs": [
    {
     "name": "stdout",
     "output_type": "stream",
     "text": [
      "3628800\n"
     ]
    }
   ],
   "source": [
    "# Let's do this again without range, using recursion\n",
    "def factorial(n):\n",
    "  assert n > 0\n",
    "  if n == 1:\n",
    "    return 1 # base case\n",
    "  else:\n",
    "    return n * factorial(n - 1)\n",
    "\n",
    "print(factorial(10))"
   ]
  },
  {
   "cell_type": "code",
   "execution_count": null,
   "metadata": {},
   "outputs": [
    {
     "name": "stdout",
     "output_type": "stream",
     "text": [
      "3628800\n",
      "3628800\n"
     ]
    }
   ],
   "source": [
    "# Compact versions\n",
    "# With minor additions to consider the special\n",
    "# case of 0!\n",
    "\n",
    "from numpy import prod\n",
    "\n",
    "def iFactorial(n):\n",
    "  assert n >= 0\n",
    "  return prod(range(1, n + 1))\n",
    "\n",
    "def rFactorial(n):\n",
    "  assert n > 0\n",
    "  return n * factorial(n - 1) if n else 1\n",
    "\n",
    "print(iFactorial(10))\n",
    "print(rFactorial(10))"
   ]
  },
  {
   "cell_type": "markdown",
   "metadata": {},
   "source": [
    "## **Problem 66** For what integers _n_ does the following program terminate?"
   ]
  },
  {
   "cell_type": "code",
   "execution_count": null,
   "metadata": {},
   "outputs": [
    {
     "name": "stdout",
     "output_type": "stream",
     "text": [
      "1\n",
      "2\n",
      "3\n",
      "4\n",
      "5\n",
      "6\n",
      "7\n",
      "8\n",
      "9\n",
      "10!\n",
      "0\n",
      "1\n",
      "2\n",
      "3\n",
      "4\n",
      "5\n",
      "6\n",
      "7\n",
      "8\n",
      "9\n",
      "10!\n"
     ]
    },
    {
     "data": {
      "text/plain": [
       "0"
      ]
     },
     "execution_count": 6,
     "metadata": {},
     "output_type": "execute_result"
    }
   ],
   "source": [
    "def strange(n):\n",
    "  if n == 10:\n",
    "    print('10!')\n",
    "    return 9\n",
    "  print(n)  \n",
    "  return n * strange(n + 1)\n",
    "\n",
    "# strange (10)\n",
    "# strange(7)\n",
    "strange(1)\n",
    "strange(0)"
   ]
  },
  {
   "cell_type": "markdown",
   "metadata": {},
   "source": [
    "## [Collatz Conjecture](https://en.wikipedia.org/wiki/Collatz_conjecture)\n",
    "\n",
    "\"The Collatz conjecture in mathematics asks whether repeating two simple arithmetic operations will eventually transform every positive integer into one. It concerns sequences of integers in which each term is obtained from the previous term as follows: if the previous term is even, the next term is one half of the previous term. If the previous term is odd, the next term is 3 times the previous term plus 1. The conjecture is that these sequences always reach 1, no matter which positive integer is chosen to start the sequence.\""
   ]
  },
  {
   "cell_type": "code",
   "execution_count": null,
   "metadata": {},
   "outputs": [
    {
     "name": "stdout",
     "output_type": "stream",
     "text": [
      "100151\n",
      "300454\n",
      "150227\n",
      "450682\n",
      "225341\n",
      "676024\n",
      "338012\n",
      "169006\n",
      "84503\n",
      "253510\n",
      "126755\n",
      "380266\n",
      "190133\n",
      "570400\n",
      "285200\n",
      "142600\n",
      "71300\n",
      "35650\n",
      "17825\n",
      "53476\n",
      "26738\n",
      "13369\n",
      "40108\n",
      "20054\n",
      "10027\n",
      "30082\n",
      "15041\n",
      "45124\n",
      "22562\n",
      "11281\n",
      "33844\n",
      "16922\n",
      "8461\n",
      "25384\n",
      "12692\n",
      "6346\n",
      "3173\n",
      "9520\n",
      "4760\n",
      "2380\n",
      "1190\n",
      "595\n",
      "1786\n",
      "893\n",
      "2680\n",
      "1340\n",
      "670\n",
      "335\n",
      "1006\n",
      "503\n",
      "1510\n",
      "755\n",
      "2266\n",
      "1133\n",
      "3400\n",
      "1700\n",
      "850\n",
      "425\n",
      "1276\n",
      "638\n",
      "319\n",
      "958\n",
      "479\n",
      "1438\n",
      "719\n",
      "2158\n",
      "1079\n",
      "3238\n",
      "1619\n",
      "4858\n",
      "2429\n",
      "7288\n",
      "3644\n",
      "1822\n",
      "911\n",
      "2734\n",
      "1367\n",
      "4102\n",
      "2051\n",
      "6154\n",
      "3077\n",
      "9232\n",
      "4616\n",
      "2308\n",
      "1154\n",
      "577\n",
      "1732\n",
      "866\n",
      "433\n",
      "1300\n",
      "650\n",
      "325\n",
      "976\n",
      "488\n",
      "244\n",
      "122\n",
      "61\n",
      "184\n",
      "92\n",
      "46\n",
      "23\n",
      "70\n",
      "35\n",
      "106\n",
      "53\n",
      "160\n",
      "80\n",
      "40\n",
      "20\n",
      "10\n",
      "5\n",
      "16\n",
      "8\n",
      "4\n",
      "2\n",
      "1\n"
     ]
    },
    {
     "data": {
      "text/plain": [
       "0"
      ]
     },
     "execution_count": 7,
     "metadata": {},
     "output_type": "execute_result"
    }
   ],
   "source": [
    "def collatz(n):\n",
    "  print(n)\n",
    "  assert n >= 1\n",
    "  if n == 1:\n",
    "    return 0\n",
    "  elif n % 2 == 0:\n",
    "    return collatz(n // 2) # // used for integer division\n",
    "  else:\n",
    "    return collatz(3 * n + 1)\n",
    "\n",
    "collatz(100151)\n"
   ]
  },
  {
   "cell_type": "code",
   "execution_count": null,
   "metadata": {},
   "outputs": [
    {
     "name": "stdout",
     "output_type": "stream",
     "text": [
      "3\n",
      "2\n",
      "1\n",
      "0\n"
     ]
    },
    {
     "data": {
      "text/plain": [
       "15"
      ]
     },
     "execution_count": 8,
     "metadata": {},
     "output_type": "execute_result"
    }
   ],
   "source": [
    "def foo(n):\n",
    "  assert n >= 0\n",
    "  print(n)\n",
    "  if n == 0:\n",
    "    return 0\n",
    "  else:\n",
    "    return foo(n-1) + 2 * n+1\n",
    "\n",
    "foo(3)"
   ]
  },
  {
   "cell_type": "markdown",
   "metadata": {},
   "source": [
    "**Problem 70** Prove tht any monetary amount starting from 8 can be paid using coins in denominations of 3 and 5.\n",
    "\n",
    "This is a mathematical statement: The corresponding programming problem would be: Given an integer n ≥ 8, find a list of 3s and 5s whose sum is  _n_."
   ]
  },
  {
   "cell_type": "code",
   "execution_count": null,
   "metadata": {},
   "outputs": [
    {
     "name": "stdout",
     "output_type": "stream",
     "text": [
      "(amount)=3+3+3+3+3+3+3+3+3+3\n"
     ]
    }
   ],
   "source": [
    "def change(amount):\n",
    "  assert amount >= 8\n",
    "  if amount == 8:\n",
    "    return [3, 5]\n",
    "  if amount == 9:\n",
    "    return [3, 3, 3]\n",
    "  if amount == 10:\n",
    "    return [5, 5]\n",
    "\n",
    "  coins = change(amount - 3)\n",
    "  coins.append(3)\n",
    "  return coins\n",
    "\n",
    "amount = 30\n",
    "coins = change(amount)\n",
    "\n",
    "# str converts the integer to a string, the map does this\n",
    "# for all of the integers.\n",
    "print(f\"(amount)={'+'.join(map(str, coins))}\")"
   ]
  },
  {
   "cell_type": "markdown",
   "metadata": {},
   "source": [
    "A more compact version of the same code:"
   ]
  },
  {
   "cell_type": "code",
   "execution_count": null,
   "metadata": {},
   "outputs": [
    {
     "data": {
      "text/plain": [
       "[3,\n",
       " 3,\n",
       " 3,\n",
       " 3,\n",
       " 3,\n",
       " 3,\n",
       " 3,\n",
       " 3,\n",
       " 3,\n",
       " 3,\n",
       " 3,\n",
       " 3,\n",
       " 3,\n",
       " 3,\n",
       " 3,\n",
       " 3,\n",
       " 3,\n",
       " 3,\n",
       " 3,\n",
       " 3,\n",
       " 3,\n",
       " 3,\n",
       " 3,\n",
       " 3,\n",
       " 3,\n",
       " 3,\n",
       " 3,\n",
       " 3,\n",
       " 3]"
      ]
     },
     "execution_count": 10,
     "metadata": {},
     "output_type": "execute_result"
    }
   ],
   "source": [
    "base_cases = {8:[3, 5], 9:[3, 3, 3], 10: [5, 5]}\n",
    "\n",
    "def change(amount):\n",
    "  assert amount >= 8\n",
    "  if amount <= 10:\n",
    "    return base_cases[amount]\n",
    "  return change(amount-3) + [3]\n",
    "\n",
    "change(87)"
   ]
  },
  {
   "cell_type": "markdown",
   "metadata": {},
   "source": [
    "Who needs recursion?  Why not just do this:"
   ]
  },
  {
   "cell_type": "code",
   "execution_count": null,
   "metadata": {},
   "outputs": [
    {
     "name": "stdout",
     "output_type": "stream",
     "text": [
      "[5, 5, 3]\n"
     ]
    }
   ],
   "source": [
    "def change(amount):\n",
    "  assert amount >= 8\n",
    "  coins = []\n",
    "  while amount % 3 != 0:\n",
    "    coins.append(5)\n",
    "    amount -= 5\n",
    "  while amount != 0:\n",
    "    coins.append(3)\n",
    "    amount -= 3\n",
    "  return coins\n",
    "\n",
    "print(change(13))"
   ]
  },
  {
   "cell_type": "markdown",
   "metadata": {},
   "source": [
    "This program _should_ work for all payable amounts, but to see this, _we need a separate proof that every amount starting from 8 is payable._  The previous program implicitly provided such a proof by itself.  Moreover, being able to decompose a problem into smaller problems of the same type and to implement recursive solutions is an important skill in programming.  \n",
    "\n",
    "**Problem 75**  What is the maximum integer amount that cannot be paid with 5- and 7-coins?\n",
    "\n",
    "**Problem 76** Write a function `change(amount)` that for any integer _amount_ starting from 24 returns a list consisting of numbers 5 and 7 only, such that their sum is equal to amount.  "
   ]
  },
  {
   "cell_type": "markdown",
   "metadata": {},
   "source": [
    "## Tower of Hanoi\n",
    "The recursion ultimatum.  "
   ]
  },
  {
   "cell_type": "code",
   "execution_count": null,
   "metadata": {},
   "outputs": [
    {
     "name": "stdout",
     "output_type": "stream",
     "text": [
      "Move disk from 1 to 3\n",
      "Move disk from 1 to 2\n",
      "Move disk from 3 to 2\n",
      "Move disk from 1 to 3\n",
      "Move disk from 2 to 1\n",
      "Move disk from 2 to 3\n",
      "Move disk from 1 to 3\n"
     ]
    }
   ],
   "source": [
    "def hanoi_towers(n, from_rod, to_rod):\n",
    "  if n == 1:\n",
    "    print(f'Move disk from {from_rod} to {to_rod}')\n",
    "  else:\n",
    "    unused_rod = 6 - from_rod - to_rod\n",
    "    hanoi_towers(n-1, from_rod, unused_rod)\n",
    "    print(f'Move disk from {from_rod} to {to_rod}')\n",
    "    hanoi_towers(n-1, unused_rod, to_rod)\n",
    "\n",
    "hanoi_towers(3, 1, 3)"
   ]
  },
  {
   "cell_type": "markdown",
   "metadata": {},
   "source": [
    "For _n_ = 3 we moved the largest disk (one move) and made some moves before that (preparation) and after that.  \n",
    "\n",
    "If we denote the number of moves for three disks as $T_{3}$ and for two disks as $T_{2}$ then:\n",
    "\n",
    "$T_{3}$ = $2T_{2}$ + 1 = 2 * 3 + 1 = 7\n",
    "\n",
    "Or, generally:\n",
    "\n",
    "$T_{n}$ = $2T_{n-1}$ + 1 where $T_{n}$ is the total number of moves used.\n",
    "\n",
    "...\n",
    "\n",
    "Rewriting the formula for $T_{n}+1$:\n",
    "\n",
    "$T_{n}+1 = (2T_{n-1} + 1) + 1  = 2T_{n-1} + 2 = 2(T_{n-1} + 1)$"
   ]
  },
  {
   "cell_type": "markdown",
   "metadata": {},
   "source": [
    "## Why Induction?\n",
    "Why indeed?  Consider:"
   ]
  },
  {
   "cell_type": "code",
   "execution_count": null,
   "metadata": {},
   "outputs": [
    {
     "data": {
      "text/plain": [
       "5050"
      ]
     },
     "execution_count": 19,
     "metadata": {},
     "output_type": "execute_result"
    }
   ],
   "source": [
    "def sum_of_integers(n):\n",
    "  assert n > 0\n",
    "  return sum(range(1, n + 1))\n",
    "\n",
    "sum_of_integers(100)"
   ]
  },
  {
   "cell_type": "markdown",
   "metadata": {},
   "source": [
    "Because you are Russian, you suggest that code can be improved by using the _formula for arithmetic series_, which says that for every positive series _n_:\n",
    "\n",
    "$\\sum_{i=1}^n i = 1 + 2 + ... + n = \\frac{n(n+1)}{2}$\n",
    "\n",
    "It's easy to prove it's faster:"
   ]
  },
  {
   "cell_type": "code",
   "execution_count": null,
   "metadata": {},
   "outputs": [
    {
     "data": {
      "text/plain": [
       "5050"
      ]
     },
     "execution_count": 20,
     "metadata": {},
     "output_type": "execute_result"
    }
   ],
   "source": [
    "def sum_of_integers(n):\n",
    "  return(n*(n+1)//2)\n",
    "\n",
    "sum_of_integers(100)"
   ]
  },
  {
   "cell_type": "markdown",
   "metadata": {},
   "source": [
    "It's easy to prove that it's valid for the first 100 integers:"
   ]
  },
  {
   "cell_type": "code",
   "execution_count": null,
   "metadata": {},
   "outputs": [
    {
     "name": "stdout",
     "output_type": "stream",
     "text": [
      "True\n"
     ]
    }
   ],
   "source": [
    "print(all(sum(range(1, n+1)) == n * (n+1) // 2 \n",
    "  for n in range(1, 101)))"
   ]
  },
  {
   "cell_type": "markdown",
   "metadata": {},
   "source": [
    "But how to prove that it's generally true?  **Induction!**"
   ]
  },
  {
   "cell_type": "markdown",
   "metadata": {},
   "source": [
    "$\\sum_{i=1}^n i = 1 + 2 + ... + n + (n + 1)$\n",
    "\n",
    "$=(\\sum_{i=1}^n i) + (n + 1)$\n",
    "\n",
    "$=\\frac{n(n+1)}{2} + (n + 1)$ (Follows from orig. formula)\n",
    "\n",
    "$=\\frac{n(n+1)}{2} + \\frac{2(n+1)}{2}$\n",
    "\n",
    "$=\\frac{(n+1)(n+2)}{2}    {\\square}$\n",
    "\n"
   ]
  },
  {
   "cell_type": "markdown",
   "metadata": {},
   "source": [
    "## Bernoulli's inequality\n",
    "Why did no one name a pastry after him?\n",
    "\n",
    "Will you get $1,000,000 faster starting with $1,000 and earning 2% every day with compound interest or simple interest?"
   ]
  },
  {
   "cell_type": "code",
   "execution_count": null,
   "metadata": {},
   "outputs": [
    {
     "data": {
      "image/png": "[encoded data removed]",
      "text/plain": [
       "<Figure size 432x288 with 1 Axes>"
      ]
     },
     "metadata": {
      "needs_background": "light"
     },
     "output_type": "display_data"
    }
   ],
   "source": [
    "import matplotlib.pyplot as plt\n",
    "import numpy as np\n",
    "\n",
    "plt.xlabel('$n$')\n",
    "plt.ylabel('Money ($)')\n",
    "\n",
    "x = np.arange(200)\n",
    "\n",
    "plt.plot(x, 1.02 ** x, label='$1.02^n$')\n",
    "plt.plot(x, 1 + 0.02 * x, label='1+0.2^n')\n",
    "plt.legend(loc='upper left')\n",
    "\n",
    "plt.savefig('bernoulli.png')\n"
   ]
  },
  {
   "cell_type": "markdown",
   "metadata": {},
   "source": [
    "This holds in general: compound interest is always at least as profitable as simple interest.  This is known as Bernoulli's inequality, and it can be proved using mathematical induction.  \n",
    "\n",
    "Specifically, Bernoulli's inequality says: \n",
    "\n",
    "For every _x_ ≥ -1 and _n_ ≥ 0, it holds that $(1 + x)^n ≥ 1 + xn.$ \n",
    "\n",
    "The base case $n = 0$ holds trivially:\n",
    "\n",
    "$(1 + x)^0 = 1 = 1 + x * 0$\n",
    "\n",
    "Now we prove the induction step from _n_ to (_n_ + 1) for every n ≥ 0\n",
    "\n",
    "$(1 + x)^{n+1} = (1 + x)^n * (1 + x)$\n",
    "\n",
    "which is ≥ $(1 + xn) * (1 + x)$\n",
    "\n",
    "which is = $1 + x(n+1) + x^2n$\n",
    "\n",
    "which is ≥ $1 + x(n + 1)$\n",
    "\n",
    "where we used both the induction hypothesis for _n_, and the fact that an inequality can be multiplied by a non-negative value (1 + x).\n"
   ]
  },
  {
   "cell_type": "code",
   "execution_count": 4,
   "metadata": {},
   "outputs": [
    {
     "name": "stdout",
     "output_type": "stream",
     "text": [
      "0.9900990099009898\n"
     ]
    }
   ],
   "source": [
    "def fraction(top):\n",
    "  x = 0\n",
    "  n = 1\n",
    "  while(n <= top):\n",
    "    x += 1/(n * (n + 1))\n",
    "    n += 1\n",
    "    # print (n, top)\n",
    "  print(x)\n",
    "\n",
    "fraction(100)"
   ]
  }
 ],
 "metadata": {
  "interpreter": {
   "hash": "aee8b7b246df8f9039afb4144a1f6fd8d2ca17a180786b69acc140d282b71a49"
  },
  "kernelspec": {
   "display_name": "Python 3.9.7 64-bit",
   "name": "python3"
  },
  "language_info": {
   "codemirror_mode": {
    "name": "ipython",
    "version": 3
   },
   "file_extension": ".py",
   "mimetype": "text/x-python",
   "name": "python",
   "nbconvert_exporter": "python",
   "pygments_lexer": "ipython3",
   "version": "3.9.2"
  },
  "orig_nbformat": 4
 },
 "nbformat": 4,
 "nbformat_minor": 2
}
