{
 "cells": [
  {
   "cell_type": "markdown",
   "metadata": {},
   "source": [
    "# Recursion and Induction\n",
    "\n",
    "## Chapter 3 of the course textbook"
   ]
  },
  {
   "cell_type": "markdown",
   "metadata": {},
   "source": [
    "Recursion is often used for computing something whereas induction is used for proving things.\n",
    "\n",
    "A program is called _recursive_ if it calls itself, thus reducing an instance of a problem to some other instance of the same problem.  "
   ]
  },
  {
   "cell_type": "code",
   "execution_count": 3,
   "metadata": {},
   "outputs": [
    {
     "name": "stdout",
     "output_type": "stream",
     "text": [
      "[4, 2, 1, 6]\n",
      "[2, 1, 6]\n",
      "[1, 6]\n",
      "[6]\n",
      "[]\n",
      "5\n"
     ]
    }
   ],
   "source": [
    "# Simple example\n",
    "# You could of course just use len() to do this\n",
    "\n",
    "def length(lst):\n",
    "  # check whether lst is empty\n",
    "  # can also say lst = []\n",
    "  # this is the \"first person in line\"\n",
    "  if not lst:\n",
    "    return 0\n",
    "  else:\n",
    "    # print(lst[1:])\n",
    "    # lst[1:] returns the list minus the 1st element (slice)\n",
    "    return 1 + length(lst[1:])\n",
    "\n",
    "print(length([5, 4, 2, 1, 6]))\n"
   ]
  },
  {
   "cell_type": "code",
   "execution_count": 6,
   "metadata": {},
   "outputs": [
    {
     "name": "stdout",
     "output_type": "stream",
     "text": [
      "5\n"
     ]
    }
   ],
   "source": [
    "# Same as above in a one-liner\n",
    "def length(lst):\n",
    "  return 1 + length(lst[1:]) if lst else 0\n",
    "\n",
    "print(length(['Ashok', 'Benito', 'Claire', 'David', 'Eustance' ]))"
   ]
  },
  {
   "cell_type": "markdown",
   "metadata": {},
   "source": [
    "Factorial: Iteration Versus Recursion"
   ]
  },
  {
   "cell_type": "markdown",
   "metadata": {},
   "source": [
    "What is the last nonzero digit of 20! and how many zeros follow it?  "
   ]
  },
  {
   "cell_type": "code",
   "execution_count": 7,
   "metadata": {},
   "outputs": [
    {
     "name": "stdout",
     "output_type": "stream",
     "text": [
      "2432902008176640000\n"
     ]
    }
   ],
   "source": [
    "# It is easy to write a program that computes factorials\n",
    "# This is iterative:\n",
    "def factorial(n):\n",
    "  assert n > 0 # or else you'll get an error\n",
    "  result = 1\n",
    "  for i in range(1, n + 1):\n",
    "    result *= i\n",
    "  return result\n",
    "\n",
    "print(factorial(20))"
   ]
  },
  {
   "cell_type": "markdown",
   "metadata": {},
   "source": [
    "There are three ways you can call range() : \n",
    "* `range(stop)` takes one argument.\n",
    "* `range(start, stop)` takes two arguments.\n",
    "* `range(start, stop, step)` takes three arguments.\n",
    "\n",
    "```python\n",
    "for i in range(10):\n",
    "    print(i, end=\" \")\n",
    "print()\n",
    "```\n",
    "...will print 0 1 2 3 4 5 6 7 8 9"
   ]
  },
  {
   "cell_type": "code",
   "execution_count": 9,
   "metadata": {},
   "outputs": [
    {
     "name": "stdout",
     "output_type": "stream",
     "text": [
      "3628800\n"
     ]
    }
   ],
   "source": [
    "# Let's do this again without range, using recursion\n",
    "def factorial(n):\n",
    "  assert n > 0\n",
    "  if n == 1:\n",
    "    return 1 # base case\n",
    "  else:\n",
    "    return n * factorial(n - 1)\n",
    "\n",
    "print(factorial(10))"
   ]
  },
  {
   "cell_type": "code",
   "execution_count": null,
   "metadata": {},
   "outputs": [],
   "source": [
    "# Compact versions\n",
    "# With minor additions to consider the special\n",
    "# case of 0!\n",
    "\n",
    "from numpy import prod\n",
    "\n",
    "def iFactorial(n):\n",
    "  assert n >= 0\n",
    "  return prod(range(1, n + 1))\n",
    "\n",
    "def rFactorial(n):\n",
    "  assert n > 0\n",
    "  return n * factorial(n - 1) if n else 1\n",
    "\n",
    "print(iFactorial(10))\n",
    "print(rFactorial(10))"
   ]
  }
 ],
 "metadata": {
  "interpreter": {
   "hash": "aee8b7b246df8f9039afb4144a1f6fd8d2ca17a180786b69acc140d282b71a49"
  },
  "kernelspec": {
   "display_name": "Python 3.9.6 64-bit",
   "name": "python3"
  },
  "language_info": {
   "codemirror_mode": {
    "name": "ipython",
    "version": 3
   },
   "file_extension": ".py",
   "mimetype": "text/x-python",
   "name": "python",
   "nbconvert_exporter": "python",
   "pygments_lexer": "ipython3",
   "version": "3.9.7"
  },
  "orig_nbformat": 4
 },
 "nbformat": 4,
 "nbformat_minor": 2
}
