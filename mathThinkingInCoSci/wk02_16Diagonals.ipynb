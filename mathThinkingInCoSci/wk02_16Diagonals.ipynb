{
 "cells": [
  {
   "cell_type": "markdown",
   "metadata": {},
   "source": [
    "# 16 Diagonals\n",
    "\n",
    "**Problem:** on a 3x3 grid, draw 6 diagonals that do not touch (have a common point). On a 4x4 draw 10, on a 5x5 draw 16\n",
    "\n",
    "**Exercise:** Can this problem be solved using backtracking?\n",
    "\n",
    "* Fill the grid in gradually, bottom to top, left to right.  -1 means don't know what to place, initial state\n",
    "* Process cells 1 by 1, row by row\n",
    "* For each cell consider 1. Diagonal from BL to TR, 2. Diagonal from BR to TL, 3. No diagonal\n",
    "* Each time a new diagonal is placed, check whether it conflicts with other diagonals, if it does, backtrack!"
   ]
  },
  {
   "cell_type": "code",
   "execution_count": null,
   "metadata": {},
   "outputs": [],
   "source": []
  }
 ],
 "metadata": {
  "language_info": {
   "name": "python"
  },
  "orig_nbformat": 4
 },
 "nbformat": 4,
 "nbformat_minor": 2
}
